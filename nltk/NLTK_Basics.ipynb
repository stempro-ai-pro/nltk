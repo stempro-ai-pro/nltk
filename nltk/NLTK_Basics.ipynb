{
 "cells": [
  {
   "cell_type": "markdown",
   "metadata": {},
   "source": [
    "# Jupyter Notebook Basics:\n",
    "\n",
    "<b> get familiar with </b>\n",
    "<li>Start a new notebook </li>\n",
    "<li>rename a notebook </li>\n",
    "<b> Four types of cells: </b>\n",
    "<li> code </li>\n",
    "<li> Markdown</li>\n",
    "<li> raw NBConvert: only functions when output to other format</li>\n",
    "<li> Heading. </li>\n",
    "<b>know how to:</b>\n",
    "<li>execute a cell: make sure the mouse is within the cell, then click \"Run\" button in the tool bar. or press \"shift\" +Enter</li>\n"
   ]
  },
  {
   "cell_type": "markdown",
   "metadata": {},
   "source": [
    "# Installation of Anaconda and nltk\n",
    "<b>Make sure Anaconda and NLTK is installed and running</b>\n",
    "<b>Installing Anaconda will automatically install nltk and other powerful packages like beautifulsoup4, spacy etc.</b>\n",
    "<li> please email teachers  <a href=mailto:yong.ma@stempro.org> Yong Hui Ma</a> if any questions</li>\n",
    "<b>We are using py3 for the application. </b>\n",
    "<li>For students having py2, we will carry out some extra steps to create py3 environments. Keep py2 for now</li>"
   ]
  },
  {
   "cell_type": "markdown",
   "metadata": {},
   "source": [
    "# nltk works? \n",
    "<b> try import nltk and run </b>"
   ]
  },
  {
   "cell_type": "code",
   "execution_count": 25,
   "metadata": {
    "ExecuteTime": {
     "end_time": "2019-11-04T03:45:59.505286Z",
     "start_time": "2019-11-04T03:45:59.501283Z"
    }
   },
   "outputs": [],
   "source": [
    "import nltk"
   ]
  },
  {
   "cell_type": "markdown",
   "metadata": {},
   "source": [
    "# nltk download_shell works?\n",
    "<b>type in \"nltk.download_shell()\"</b>"
   ]
  },
  {
   "cell_type": "code",
   "execution_count": 22,
   "metadata": {
    "ExecuteTime": {
     "end_time": "2019-11-04T02:57:31.166233Z",
     "start_time": "2019-11-04T02:57:28.182115Z"
    }
   },
   "outputs": [
    {
     "name": "stdout",
     "output_type": "stream",
     "text": [
      "NLTK Downloader\n",
      "---------------------------------------------------------------------------\n",
      "    d) Download   l) List    u) Update   c) Config   h) Help   q) Quit\n",
      "---------------------------------------------------------------------------\n",
      "Downloader> q\n"
     ]
    }
   ],
   "source": [
    "nltk.download_shell()"
   ]
  },
  {
   "cell_type": "markdown",
   "metadata": {},
   "source": [
    "# Test nltk: synonyms/antonyms"
   ]
  },
  {
   "cell_type": "code",
   "execution_count": 8,
   "metadata": {
    "ExecuteTime": {
     "end_time": "2019-11-03T20:17:05.207158Z",
     "start_time": "2019-11-03T20:17:05.199770Z"
    }
   },
   "outputs": [
    {
     "name": "stdout",
     "output_type": "stream",
     "text": [
      "{'active_voice', 'active_agent', 'fighting', 'combat-ready', 'participating', 'alive', 'active', 'dynamic', 'this is a test message'}\n",
      "{'stative', 'passive', 'quiet', 'dormant', 'extinct', 'passive_voice', 'inactive'}\n"
     ]
    }
   ],
   "source": [
    "from nltk.corpus import wordnet\n",
    "synonyms = [\"this is a test message\"]\n",
    "antonyms = []\n",
    "\n",
    "for sqyn in wordnet.synsets(\"active\"):\n",
    "    for l in sqyn.lemmas():\n",
    "        synonyms.append(l.name())\n",
    "        if l.antonyms():\n",
    "             antonyms.append(l.antonyms()[0].name())\n",
    "\n",
    "print(set(synonyms))\n",
    "print(set(antonyms))"
   ]
  },
  {
   "cell_type": "markdown",
   "metadata": {},
   "source": [
    "# Test Stemmers \n",
    "<li>stemming is the process of reducing inflection in words to their root form </li>\n",
    "<li>The Porter stemming algorithm (or 'Porter stemmer') is a process for removing the commoner morphological and inflexional endings from words in English.  </li>\n",
    "<li>LancasterStemmer simimlar but heavier reducing </li>\n",
    "<li>SnowballStemmers: for any language  </li> \n",
    "<b>type or copy & paste the following scripts</b>"
   ]
  },
  {
   "cell_type": "markdown",
   "metadata": {
    "ExecuteTime": {
     "end_time": "2019-11-03T00:27:07.132979Z",
     "start_time": "2019-11-03T00:27:07.129980Z"
    }
   },
   "source": [
    "from nltk.stem import PorterStemmer \n",
    "from nltk.stem import LancasterStemmer\n",
    "from nltk.stem import ISRIStemmer\n",
    "porter = PorterStemmer()\n",
    "lancaster=LancasterStemmer()"
   ]
  },
  {
   "cell_type": "code",
   "execution_count": null,
   "metadata": {
    "ExecuteTime": {
     "end_time": "2019-11-03T20:02:43.813484Z",
     "start_time": "2019-11-03T20:02:43.756389Z"
    }
   },
   "outputs": [],
   "source": [
    "#proide a word to be stemmed\n",
    "print(\"Porter Stemmer\")\n",
    "print(porter.stem(\"cats\"))\n",
    "print(porter.stem(\"trouble\"))\n",
    "print(porter.stem(\"troubling\"))\n",
    "print(porter.stem(\"stabilize\"))\n",
    "print(\"Lancaster Stemmer\")\n",
    "print(lancaster.stem(\"cats\"))\n",
    "print(lancaster.stem(\"playing\"))\n",
    "print(lancaster.stem(\"played\"))\n",
    "print(lancaster.stem(\"stabilize\"))\n",
    "print(lancaster.stem(\"stabilizing\"))"
   ]
  },
  {
   "cell_type": "markdown",
   "metadata": {},
   "source": [
    "# Test Lemmatization"
   ]
  },
  {
   "cell_type": "code",
   "execution_count": 10,
   "metadata": {
    "ExecuteTime": {
     "end_time": "2019-11-04T02:48:42.652724Z",
     "start_time": "2019-11-04T02:48:42.648475Z"
    }
   },
   "outputs": [],
   "source": [
    "lm = nltk.stem.WordNetLemmatizer()"
   ]
  },
  {
   "cell_type": "code",
   "execution_count": 23,
   "metadata": {
    "ExecuteTime": {
     "end_time": "2019-11-04T03:08:08.541339Z",
     "start_time": "2019-11-04T03:08:08.535375Z"
    }
   },
   "outputs": [],
   "source": [
    "ut='''\n",
    "Founded in 1827, the University of Toronto has evolved into Canada’s leading institution of learning, discovery and knowledge creation. We are proud to be one of the world’s top research-intensive universities, driven to invent and innovate.\n",
    "Our students have the opportunity to learn from and work with preeminent thought leaders through our multidisciplinary network of teaching and research faculty, alumni and partners. \n",
    "The ideas, innovations and actions of more than 560,000 graduates continue to have a positive impact on the world.\n",
    "''' \n",
    "tokens = nltk.word_tokenize(ut) "
   ]
  },
  {
   "cell_type": "code",
   "execution_count": 24,
   "metadata": {
    "ExecuteTime": {
     "end_time": "2019-11-04T03:08:09.398123Z",
     "start_time": "2019-11-04T03:08:09.391125Z"
    }
   },
   "outputs": [
    {
     "name": "stdout",
     "output_type": "stream",
     "text": [
      "Original : has, New: ha\n",
      "Original : universities, New: university\n",
      "Original : students, New: student\n",
      "Original : leaders, New: leader\n",
      "Original : alumni, New: alumnus\n",
      "Original : partners, New: partner\n",
      "Original : ideas, New: idea\n",
      "Original : innovations, New: innovation\n",
      "Original : actions, New: action\n",
      "Original : graduates, New: graduate\n"
     ]
    }
   ],
   "source": [
    "for token in tokens:\n",
    "    lemmatized_token = lm.lemmatize(token) \n",
    "    if token != lemmatized_token:\n",
    "        print('Original : %s, New: %s' % (token, lemmatized_token))"
   ]
  },
  {
   "cell_type": "markdown",
   "metadata": {},
   "source": [
    "# Advanced Homework\n",
    "According to  <a href=\"https://www.vocabulary.com/lists/191545\"><b>vocabulary.com</b></a> The following list are the most difficult SAT words for 2019. \n",
    "\n",
    "<b> Can you build a loop, and generate a \"Study Book\" for your friends to learn these words? Output only word and definition</b>\n",
    "\n",
    "I already put these words in an array called hard_satwords\n",
    "(we will teach about array later on.)\n",
    "\n",
    "You may use the following solution as a simple prototype:"
   ]
  },
  {
   "cell_type": "code",
   "execution_count": 102,
   "metadata": {
    "ExecuteTime": {
     "end_time": "2019-11-04T04:53:42.405363Z",
     "start_time": "2019-11-04T04:53:42.400364Z"
    }
   },
   "outputs": [
    {
     "name": "stdout",
     "output_type": "stream",
     "text": [
      "once \n",
      " on one occasion\n",
      "---------------------------------------------\n",
      "time \n",
      " an instance or single occasion for some event\n",
      "---------------------------------------------\n",
      "star \n",
      " (astronomy) a celestial body of hot gases that radiates energy derived from thermonuclear reactions in the interior\n",
      "---------------------------------------------\n",
      "war \n",
      " the waging of armed conflict against an enemy\n",
      "---------------------------------------------\n"
     ]
    }
   ],
   "source": [
    "easy_words=['once','time', 'star', 'war']\n",
    "from nltk.corpus import wordnet as wn\n",
    "for w in easy_words: \n",
    "    syns = wordnet.synsets(w)\n",
    "    print(w, '\\n', syns[0].definition())\n",
    "    print('---------------------------------------------') "
   ]
  },
  {
   "cell_type": "markdown",
   "metadata": {},
   "source": [
    "<b>starts here: </b>"
   ]
  },
  {
   "cell_type": "code",
   "execution_count": 82,
   "metadata": {
    "ExecuteTime": {
     "end_time": "2019-11-04T04:32:49.973520Z",
     "start_time": "2019-11-04T04:32:49.955528Z"
    }
   },
   "outputs": [],
   "source": [
    "hard_satwords=['abject',\n",
    "'aberration',\n",
    "'abjure',\n",
    "'abnegation',\n",
    "'abrogate',\n",
    "'abscond',\n",
    "'abstruse',\n",
    "'accede',\n",
    "'accost',\n",
    "'accretion',\n",
    "'acumen',\n",
    "'adamant',\n",
    "'admonish',\n",
    "'adumbrate',\n",
    "'adverse',\n",
    "'advocate',\n",
    "'affluent',\n",
    "'aggrandize',\n",
    "'alacrity',\n",
    "'alias',\n",
    "'ambivalent',\n",
    "'amenable',\n",
    "'amorphous',\n",
    "'anachronistic',\n",
    "'anathema',\n",
    "'annex',\n",
    "'antediluvian',\n",
    "'antiseptic',\n",
    "'apathetic',\n",
    "'antithesis',\n",
    "'apocryphal',\n",
    "'approbation',\n",
    "'arbitrary',\n",
    "'arboreal',\n",
    "'arcane',\n",
    "'archetypal',\n",
    "'arrogate',\n",
    "'ascetic',\n",
    "'aspersion',\n",
    "'assiduous',\n",
    "'atrophy',\n",
    "'bane',\n",
    "'bashful',\n",
    "'beguile',\n",
    "'bereft',\n",
    "'blandishment',\n",
    "'bilk',\n",
    "'bombastic',\n",
    "'cajole',\n",
    "'callous',\n",
    "'calumny',\n",
    "'camaraderie',\n",
    "'candor',\n",
    "'capitulate',\n",
    "'carouse',\n",
    "'carp',\n",
    "'caucus',\n",
    "'cavort',\n",
    "'circumlocution',\n",
    "'circumscribe',\n",
    "'circumvent',\n",
    "'clamor',\n",
    "'cleave',\n",
    "'cobbler',\n",
    "'cogent',\n",
    "'cognizant',\n",
    "'commensurate',\n",
    "'complement',\n",
    "'compunction',\n",
    "'concomitant',\n",
    "'conduit',\n",
    "'conflagration',\n",
    "'congruity',\n",
    "'connive',\n",
    "'consign',\n",
    "'constituent',\n",
    "'construe',\n",
    "'contusion',\n",
    "'contrite',\n",
    "'contentious',\n",
    "'contravene',\n",
    "'convivial',\n",
    "'corpulence',\n",
    "'covet',\n",
    "'cupidity',\n",
    "'dearth',\n",
    "'debacle',\n",
    "'debauch',\n",
    "'debunk',\n",
    "'defunct',\n",
    "'demagogue',\n",
    "'denigrate',\n",
    "'derivative',\n",
    "'despot',\n",
    "'diaphanous',\n",
    "'didactic',\n",
    "'dirge',\n",
    "'disaffected',\n",
    "'discomfit',\n",
    "'disparate',\n",
    "'dispel',\n",
    "'disrepute',\n",
    "'divisive',\n",
    "'dogmatic',\n",
    "'dour',\n",
    "'duplicity',\n",
    "'duress',\n",
    "'eclectic',\n",
    "'edict',\n",
    "'ebullient',\n",
    "'egregious',\n",
    "'elegy',\n",
    "'elicit',\n",
    "'embezzlement',\n",
    "'emend',\n",
    "'emollient',\n",
    "'empirical',\n",
    "'emulate',\n",
    "'enervate',\n",
    "'enfranchise',\n",
    "'engender',\n",
    "'ephemeral',\n",
    "'epistolary',\n",
    "'equanimity',\n",
    "'equivocal',\n",
    "'espouse',\n",
    "'evanescent',\n",
    "'evince',\n",
    "'exacerbate',\n",
    "'exhort',\n",
    "'execrable',\n",
    "'exigent',\n",
    "'expedient',\n",
    "'expiate',\n",
    "'expunge',\n",
    "'extraneous',\n",
    "'extol',\n",
    "'extant',\n",
    "'expurgate',\n",
    "'fallacious',\n",
    "'fatuous',\n",
    "'fetter',\n",
    "'flagrant',\n",
    "'foil',\n",
    "'forbearance',\n",
    "'fortuitous',\n",
    "'fractious',\n",
    "'garrulous',\n",
    "'gourmand',\n",
    "'grandiloquent',\n",
    "'gratuitous',\n",
    "'hapless',\n",
    "'hegemony',\n",
    "'heterogenous',\n",
    "'iconoclast',\n",
    "'idiosyncratic',\n",
    "'impecunious',\n",
    "'impetuous',\n",
    "'impinge',\n",
    "'impute',\n",
    "'inane',\n",
    "'inchoate',\n",
    "'incontrovertible',\n",
    "'incumbent',\n",
    "'inexorable',\n",
    "'inimical',\n",
    "'injunction',\n",
    "'inoculate',\n",
    "'insidious',\n",
    "'instigate',\n",
    "'insurgent',\n",
    "'interlocutor',\n",
    "'intimation',\n",
    "'inure',\n",
    "'invective',\n",
    "'intransigent',\n",
    "'inveterate',\n",
    "'irreverence',\n",
    "'knell',\n",
    "'laconic',\n",
    "'largesse',\n",
    "'legerdemain',\n",
    "'libertarian',\n",
    "'licentious',\n",
    "'linchpin',\n",
    "'litigant',\n",
    "'maelstrom',\n",
    "'maudlin',\n",
    "'maverick',\n",
    "'mawkish',\n",
    "'maxim',\n",
    "'mendacious',\n",
    "'modicum',\n",
    "'morass',\n",
    "'mores',\n",
    "'munificent',\n",
    "'multifarious',\n",
    "'nadir',\n",
    "'negligent',\n",
    "'neophyte',\n",
    "'noisome',\n",
    "'noxious',\n",
    "'obdurate',\n",
    "'obfuscate',\n",
    "'obstreperous',\n",
    "'officious',\n",
    "'onerous',\n",
    "'ostensible',\n",
    "'ostracism',\n",
    "'palliate',\n",
    "'panacea',\n",
    "'paradigm',\n",
    "'pariah',\n",
    "'partisan',\n",
    "'paucity',\n",
    "'pejorative',\n",
    "'pellucid',\n",
    "'penchant',\n",
    "'penurious',\n",
    "'pert',\n",
    "'pernicious',\n",
    "'pertinacious',\n",
    "'phlegmatic',\n",
    "'philanthropic',\n",
    "'pithy',\n",
    "'platitude',\n",
    "'plaudit',\n",
    "'plenitude',\n",
    "'plethora',\n",
    "'portent',\n",
    "'potentate',\n",
    "'preclude',\n",
    "'predilection',\n",
    "'preponderance',\n",
    "'presage',\n",
    "'probity',\n",
    "'proclivity',\n",
    "'profligate',\n",
    "'promulgate',\n",
    "'proscribe',\n",
    "'protean',\n",
    "'prurient',\n",
    "'puerile',\n",
    "'pugnacious',\n",
    "'pulchritude',\n",
    "'punctilious',\n",
    "'quaint',\n",
    "'quixotic',\n",
    "'quandary',\n",
    "'recalcitrant',\n",
    "'redoubtable',\n",
    "'relegate',\n",
    "'remiss',\n",
    "'reprieve',\n",
    "'reprobate',\n",
    "'rescind',\n",
    "'requisition',\n",
    "'rife',\n",
    "'sanctimonious',\n",
    "'sanguine',\n",
    "'scurrilous',\n",
    "'semaphore',\n",
    "'serendipity',\n",
    "'sobriety',\n",
    "'solicitous',\n",
    "'solipsism',\n",
    "'spurious',\n",
    "'staid',\n",
    "'stolid',\n",
    "'subjugate',\n",
    "'surfeit',\n",
    "'surreptitious',\n",
    "'swarthy',\n",
    "'tangential',\n",
    "'tome',\n",
    "'toady',\n",
    "'torpid',\n",
    "'travesty',\n",
    "'trenchant',\n",
    "'trite',\n",
    "'truculent',\n",
    "'turpitude',\n",
    "'ubiquitous',\n",
    "'umbrage',\n",
    "'upbraid',\n",
    "'utilitarian',\n",
    "'veracity',\n",
    "'vestige',\n",
    "'vicissitude',\n",
    "'vilify',\n",
    "'virtuoso',\n",
    "'vitriolic',\n",
    "'vituperate',\n",
    "'vociferous',\n",
    "'wanton',\n",
    "'winsome',\n",
    "'yoke',\n",
    "'zephyr',\n",
    "'wily',\n",
    "'tirade']"
   ]
  },
  {
   "cell_type": "markdown",
   "metadata": {
    "ExecuteTime": {
     "end_time": "2019-11-04T04:54:43.211766Z",
     "start_time": "2019-11-04T04:54:43.207731Z"
    }
   },
   "source": [
    "<b>write and execute your code below:</b>"
   ]
  },
  {
   "cell_type": "code",
   "execution_count": 104,
   "metadata": {
    "ExecuteTime": {
     "end_time": "2019-11-04T05:05:52.183448Z",
     "start_time": "2019-11-04T05:05:52.177443Z"
    }
   },
   "outputs": [
    {
     "data": {
      "text/plain": [
       "'c:\\\\Coding\\\\lab_nltk\\\\hands-on-nltk-tutorial'"
      ]
     },
     "execution_count": 104,
     "metadata": {},
     "output_type": "execute_result"
    }
   ],
   "source": [
    "pwd()"
   ]
  },
  {
   "cell_type": "code",
   "execution_count": null,
   "metadata": {},
   "outputs": [],
   "source": []
  }
 ],
 "metadata": {
  "kernelspec": {
   "display_name": "Python 3",
   "language": "python",
   "name": "python3"
  },
  "language_info": {
   "codemirror_mode": {
    "name": "ipython",
    "version": 3
   },
   "file_extension": ".py",
   "mimetype": "text/x-python",
   "name": "python",
   "nbconvert_exporter": "python",
   "pygments_lexer": "ipython3",
   "version": "3.7.4"
  },
  "toc": {
   "base_numbering": 1,
   "nav_menu": {},
   "number_sections": true,
   "sideBar": true,
   "skip_h1_title": false,
   "title_cell": "Table of Contents",
   "title_sidebar": "Contents",
   "toc_cell": false,
   "toc_position": {},
   "toc_section_display": true,
   "toc_window_display": true
  }
 },
 "nbformat": 4,
 "nbformat_minor": 2
}
